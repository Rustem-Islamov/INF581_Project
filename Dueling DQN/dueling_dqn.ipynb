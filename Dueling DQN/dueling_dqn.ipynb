{
  "cells": [
    {
      "cell_type": "markdown",
      "metadata": {
        "papermill": {
          "duration": 0.014249,
          "end_time": "2021-01-13T05:46:36.215126",
          "exception": false,
          "start_time": "2021-01-13T05:46:36.200877",
          "status": "completed"
        },
        "tags": [],
        "id": "_hmC9aXtHSxm"
      },
      "source": [
        "# Dueling Double Deep Q-Learning"
      ]
    },
    {
      "cell_type": "code",
      "source": [
        "from google.colab import drive\n",
        "drive.mount('/content/drive')"
      ],
      "metadata": {
        "colab": {
          "base_uri": "https://localhost:8080/"
        },
        "id": "0zPiYlawIpvr",
        "outputId": "249de50b-bc3f-41f7-e06e-af5de94578e9"
      },
      "execution_count": 1,
      "outputs": [
        {
          "output_type": "stream",
          "name": "stdout",
          "text": [
            "Mounted at /content/drive\n"
          ]
        }
      ]
    },
    {
      "cell_type": "code",
      "source": [
        "cd /content/drive/MyDrive/Учеба/5 курс/INF 581/project"
      ],
      "metadata": {
        "colab": {
          "base_uri": "https://localhost:8080/"
        },
        "id": "Vk8k8MpAJEfu",
        "outputId": "faf2b1df-b17d-4170-b441-b15dc200f820"
      },
      "execution_count": 2,
      "outputs": [
        {
          "output_type": "stream",
          "name": "stdout",
          "text": [
            "/content/drive/MyDrive/Учеба/5 курс/INF 581/project\n"
          ]
        }
      ]
    },
    {
      "cell_type": "code",
      "execution_count": 3,
      "metadata": {
        "_cell_guid": "79c7e3d0-c299-4dcb-8224-4455121ee9b0",
        "_uuid": "d629ff2d2480ee46fbb7e2d37f6b5fab8052498a",
        "execution": {
          "iopub.execute_input": "2021-01-13T05:46:36.252443Z",
          "iopub.status.busy": "2021-01-13T05:46:36.251719Z",
          "iopub.status.idle": "2021-01-13T05:46:37.693315Z",
          "shell.execute_reply": "2021-01-13T05:46:37.692714Z"
        },
        "papermill": {
          "duration": 1.463638,
          "end_time": "2021-01-13T05:46:37.693437",
          "exception": false,
          "start_time": "2021-01-13T05:46:36.229799",
          "status": "completed"
        },
        "tags": [],
        "id": "z48KkXk_HSxn"
      },
      "outputs": [],
      "source": [
        "import torch\n",
        "import torch.nn as nn \n",
        "import torch.nn.functional as F \n",
        "import torch.optim as optim \n",
        "from torch.distributions import Categorical\n",
        "\n",
        "import pandas as pd\n",
        "import numpy as np\n",
        "import random\n",
        "\n",
        "from tqdm.notebook import tqdm\n",
        "import matplotlib.pyplot as plt"
      ]
    },
    {
      "cell_type": "code",
      "execution_count": 4,
      "metadata": {
        "execution": {
          "iopub.execute_input": "2021-01-13T05:46:38.076636Z",
          "iopub.status.busy": "2021-01-13T05:46:38.075865Z",
          "iopub.status.idle": "2021-01-13T05:46:38.080287Z",
          "shell.execute_reply": "2021-01-13T05:46:38.079623Z"
        },
        "papermill": {
          "duration": 0.370823,
          "end_time": "2021-01-13T05:46:38.080415",
          "exception": false,
          "start_time": "2021-01-13T05:46:37.709592",
          "status": "completed"
        },
        "tags": [],
        "id": "liG5BmXXHSxp"
      },
      "outputs": [],
      "source": [
        "device = torch.device('cuda') if torch.cuda.is_available() else torch.device('cpu')\n",
        "\n",
        "if device == 'cuda': import cudf"
      ]
    },
    {
      "cell_type": "markdown",
      "metadata": {
        "papermill": {
          "duration": 0.014661,
          "end_time": "2021-01-13T05:46:38.110129",
          "exception": false,
          "start_time": "2021-01-13T05:46:38.095468",
          "status": "completed"
        },
        "tags": [],
        "id": "0Ub72cm8HSxq"
      },
      "source": [
        "# Prepare Data"
      ]
    },
    {
      "cell_type": "code",
      "source": [
        "data = pd.read_parquet('./data/train.parquet')"
      ],
      "metadata": {
        "id": "-xDSsNWcKrrT"
      },
      "execution_count": 5,
      "outputs": []
    },
    {
      "cell_type": "code",
      "execution_count": 6,
      "metadata": {
        "execution": {
          "iopub.execute_input": "2021-01-13T05:46:38.183708Z",
          "iopub.status.busy": "2021-01-13T05:46:38.183102Z",
          "iopub.status.idle": "2021-01-13T05:48:48.432069Z",
          "shell.execute_reply": "2021-01-13T05:48:48.431083Z"
        },
        "papermill": {
          "duration": 130.270653,
          "end_time": "2021-01-13T05:48:48.432238",
          "exception": false,
          "start_time": "2021-01-13T05:46:38.161585",
          "status": "completed"
        },
        "tags": [],
        "id": "5irDVoQOHSxr"
      },
      "outputs": [],
      "source": [
        "def load_df(path, device):\n",
        "    if device == 'cuda':\n",
        "        df = cudf.read_csv(path)\n",
        "    else:\n",
        "        df = pd.read_csv(path)\n",
        "        \n",
        "    features = [column for column in df.columns if 'feature' in column]\n",
        "    \n",
        "    return df, features\n",
        "\n",
        "\n",
        "# load data and features\n",
        "#df, features = load_df(path, device)"
      ]
    },
    {
      "cell_type": "code",
      "source": [
        "df = data\n",
        "features = [column for column in df.columns if 'feature' in column]"
      ],
      "metadata": {
        "id": "cMbpVRQ9LNHu"
      },
      "execution_count": 7,
      "outputs": []
    },
    {
      "cell_type": "code",
      "execution_count": 8,
      "metadata": {
        "execution": {
          "iopub.execute_input": "2021-01-13T05:48:49.520560Z",
          "iopub.status.busy": "2021-01-13T05:48:49.519628Z",
          "iopub.status.idle": "2021-01-13T05:49:00.969466Z",
          "shell.execute_reply": "2021-01-13T05:49:00.968339Z"
        },
        "papermill": {
          "duration": 12.520767,
          "end_time": "2021-01-13T05:49:00.969608",
          "exception": false,
          "start_time": "2021-01-13T05:48:48.448841",
          "status": "completed"
        },
        "tags": [],
        "id": "F-ZpEKtXHSxt"
      },
      "outputs": [],
      "source": [
        "def add_actions(df, features, device):\n",
        "    f_mean = df[features[1:]].mean()\n",
        "    f_std = df[features[1:]].std()\n",
        "    \n",
        "    df = df.query('weight > 0').reset_index(drop = True)\n",
        "    df[features[1:]] = df[features[1:]].fillna(f_mean)\n",
        "    df[features[1:]] = (df[features[1:]] - f_mean) / f_std\n",
        "    df['action'] = (df['resp'] > 0).astype('int')\n",
        "    \n",
        "    if device == 'cuda': df = df.to_pandas()\n",
        "    \n",
        "    return df\n",
        "\n",
        "\n",
        "# add the action column\n",
        "df = add_actions(df, features, device)"
      ]
    },
    {
      "cell_type": "code",
      "source": [
        "n_samples = df.shape[0]\n",
        "df_train = df[:int(0.9*n_samples)]\n",
        "df_test = df[int(0.9*n_samples):int(0.95*n_samples)]\n",
        "df_valid = df[int(0.95*n_samples):]"
      ],
      "metadata": {
        "id": "hLJbLZe0KF-0"
      },
      "execution_count": 9,
      "outputs": []
    },
    {
      "cell_type": "code",
      "source": [
        "n_samples"
      ],
      "metadata": {
        "colab": {
          "base_uri": "https://localhost:8080/"
        },
        "id": "RMxD7gokODep",
        "outputId": "e6b187d7-64bb-4901-9f00-b06a33288a06"
      },
      "execution_count": 36,
      "outputs": [
        {
          "output_type": "execute_result",
          "data": {
            "text/plain": [
              "1981287"
            ]
          },
          "metadata": {},
          "execution_count": 36
        }
      ]
    },
    {
      "cell_type": "markdown",
      "metadata": {
        "papermill": {
          "duration": 0.015482,
          "end_time": "2021-01-13T05:49:01.000543",
          "exception": false,
          "start_time": "2021-01-13T05:49:00.985061",
          "status": "completed"
        },
        "tags": [],
        "id": "kMvXctZUHSxu"
      },
      "source": [
        "# Environment"
      ]
    },
    {
      "cell_type": "code",
      "execution_count": 10,
      "metadata": {
        "execution": {
          "iopub.execute_input": "2021-01-13T05:49:01.044274Z",
          "iopub.status.busy": "2021-01-13T05:49:01.043428Z",
          "iopub.status.idle": "2021-01-13T05:49:01.045814Z",
          "shell.execute_reply": "2021-01-13T05:49:01.046297Z"
        },
        "papermill": {
          "duration": 0.030566,
          "end_time": "2021-01-13T05:49:01.046426",
          "exception": false,
          "start_time": "2021-01-13T05:49:01.015860",
          "status": "completed"
        },
        "tags": [],
        "id": "Qf_wMcueHSxu"
      },
      "outputs": [],
      "source": [
        "class Env:\n",
        "    def __init__(self, df, features):\n",
        "        self.n_samples = df.shape[0]\n",
        "        self.weight = torch.FloatTensor(df['weight'].values)\n",
        "        self.resp = torch.FloatTensor(df['resp'].values)\n",
        "        self.states = torch.FloatTensor(df[features].values)\n",
        "        self.observation_space = df[features].shape[1]\n",
        "        self.action_space = 2\n",
        "        self.idx = 0\n",
        "        \n",
        "    def reset(self):\n",
        "        self.idx = 0\n",
        "        return self.states[self.idx].view(1, -1)\n",
        "    \n",
        "    def step(self, action):\n",
        "        reward = self.weight[self.idx] * self.resp[self.idx] * action\n",
        "        self.idx += 1\n",
        "        if self.idx >= self.n_samples:\n",
        "            done = True\n",
        "            self.idx = 0\n",
        "        else:\n",
        "            done = False\n",
        "        info = 0\n",
        "        return self.states[self.idx].view(1, -1), reward, done, info"
      ]
    },
    {
      "cell_type": "markdown",
      "metadata": {
        "papermill": {
          "duration": 0.015101,
          "end_time": "2021-01-13T05:49:01.076784",
          "exception": false,
          "start_time": "2021-01-13T05:49:01.061683",
          "status": "completed"
        },
        "tags": [],
        "id": "PIzovnCmHSxv"
      },
      "source": [
        "# Configurations"
      ]
    },
    {
      "cell_type": "code",
      "execution_count": 11,
      "metadata": {
        "execution": {
          "iopub.execute_input": "2021-01-13T05:49:01.117378Z",
          "iopub.status.busy": "2021-01-13T05:49:01.116506Z",
          "iopub.status.idle": "2021-01-13T05:49:01.118699Z",
          "shell.execute_reply": "2021-01-13T05:49:01.119270Z"
        },
        "papermill": {
          "duration": 0.02704,
          "end_time": "2021-01-13T05:49:01.119392",
          "exception": false,
          "start_time": "2021-01-13T05:49:01.092352",
          "status": "completed"
        },
        "tags": [],
        "id": "9XjRS-XOHSxw"
      },
      "outputs": [],
      "source": [
        "class Config:\n",
        "    def __init__(self, \n",
        "                 epsilon_start = 1.,\n",
        "                 epsilon_final = 0.01,\n",
        "                 epsilon_decay = 8000,\n",
        "                 gamma = 0.99, \n",
        "                 lr = 1e-4, \n",
        "                 target_net_update_freq = 1000, \n",
        "                 memory_size = 100000, \n",
        "                 batch_size = 128, \n",
        "                 learning_starts = 5000,\n",
        "                 max_frames = 10000000): \n",
        "\n",
        "        self.epsilon_start = epsilon_start\n",
        "        self.epsilon_final = epsilon_final\n",
        "        self.epsilon_decay = epsilon_decay\n",
        "        self.epsilon_by_frame = lambda i: self.epsilon_final + (self.epsilon_start - self.epsilon_final) * np.exp(-1. * i / self.epsilon_decay)\n",
        "\n",
        "        self.gamma =gamma\n",
        "        self.lr =lr\n",
        "\n",
        "        self.target_net_update_freq =target_net_update_freq\n",
        "        self.memory_size =memory_size\n",
        "        self.batch_size =batch_size\n",
        "\n",
        "        self.learning_starts = learning_starts\n",
        "        self.max_frames = max_frames"
      ]
    },
    {
      "cell_type": "markdown",
      "metadata": {
        "papermill": {
          "duration": 0.015184,
          "end_time": "2021-01-13T05:49:01.149910",
          "exception": false,
          "start_time": "2021-01-13T05:49:01.134726",
          "status": "completed"
        },
        "tags": [],
        "id": "l8gZlyT7HSxx"
      },
      "source": [
        "# Experience Replay"
      ]
    },
    {
      "cell_type": "code",
      "execution_count": 12,
      "metadata": {
        "execution": {
          "iopub.execute_input": "2021-01-13T05:49:01.193013Z",
          "iopub.status.busy": "2021-01-13T05:49:01.192141Z",
          "iopub.status.idle": "2021-01-13T05:49:01.194765Z",
          "shell.execute_reply": "2021-01-13T05:49:01.195282Z"
        },
        "papermill": {
          "duration": 0.02988,
          "end_time": "2021-01-13T05:49:01.195406",
          "exception": false,
          "start_time": "2021-01-13T05:49:01.165526",
          "status": "completed"
        },
        "tags": [],
        "id": "ePIT5c16HSxy"
      },
      "outputs": [],
      "source": [
        "class ExperienceReplay:\n",
        "    def __init__(self, capacity):\n",
        "        self.capacity = capacity\n",
        "        self.memory = []\n",
        "\n",
        "    def push(self, transition):\n",
        "        self.memory.append(transition)\n",
        "        if len(self.memory) > self.capacity:\n",
        "            del self.memory[0]\n",
        "\n",
        "    def sample(self, batch_size):\n",
        "        batch = random.sample(self.memory, batch_size)\n",
        "        states = []\n",
        "        actions = []\n",
        "        rewards = []\n",
        "        next_states = [] \n",
        "        dones = []\n",
        "\n",
        "        for b in batch: \n",
        "            states.append(b[0])\n",
        "            actions.append(b[1])\n",
        "            rewards.append(b[2])\n",
        "            next_states.append(b[3])\n",
        "            dones.append(b[4])\n",
        "\n",
        "        return states, actions, rewards, next_states, dones\n",
        "\n",
        "    def __len__(self):\n",
        "        return len(self.memory)"
      ]
    },
    {
      "cell_type": "markdown",
      "metadata": {
        "papermill": {
          "duration": 0.015588,
          "end_time": "2021-01-13T05:49:01.227288",
          "exception": false,
          "start_time": "2021-01-13T05:49:01.211700",
          "status": "completed"
        },
        "tags": [],
        "id": "50GxgI9KHSxz"
      },
      "source": [
        "# Dueling Network "
      ]
    },
    {
      "cell_type": "code",
      "execution_count": 13,
      "metadata": {
        "execution": {
          "iopub.execute_input": "2021-01-13T05:49:01.268996Z",
          "iopub.status.busy": "2021-01-13T05:49:01.268247Z",
          "iopub.status.idle": "2021-01-13T05:49:01.271337Z",
          "shell.execute_reply": "2021-01-13T05:49:01.270747Z"
        },
        "papermill": {
          "duration": 0.02849,
          "end_time": "2021-01-13T05:49:01.271431",
          "exception": false,
          "start_time": "2021-01-13T05:49:01.242941",
          "status": "completed"
        },
        "tags": [],
        "id": "Proy3XE0HSxz"
      },
      "outputs": [],
      "source": [
        "class DuelingNetwork(nn.Module): \n",
        "    def __init__(self, obs, ac): \n",
        "        super().__init__()\n",
        "        self.model = nn.Sequential(nn.utils.weight_norm(nn.Linear(obs, 512)),\n",
        "                                   nn.ReLU(), \n",
        "                                   nn.utils.weight_norm(nn.Linear(512, 256)),\n",
        "                                   nn.ReLU())\n",
        "\n",
        "        self.value_head = nn.utils.weight_norm(nn.Linear(256, 1))\n",
        "        self.adv_head = nn.utils.weight_norm(nn.Linear(256, ac))\n",
        "\n",
        "    def forward(self, x): \n",
        "        out = self.model(x)\n",
        "\n",
        "        value = self.value_head(out)\n",
        "        adv = self.adv_head(out)\n",
        "\n",
        "        q_val = value + adv - adv.mean(1).reshape(-1,1)\n",
        "        return q_val"
      ]
    },
    {
      "cell_type": "markdown",
      "metadata": {
        "papermill": {
          "duration": 0.015688,
          "end_time": "2021-01-13T05:49:01.302860",
          "exception": false,
          "start_time": "2021-01-13T05:49:01.287172",
          "status": "completed"
        },
        "tags": [],
        "id": "m3PxytygHSxz"
      },
      "source": [
        "# Dueling DDQN"
      ]
    },
    {
      "cell_type": "code",
      "execution_count": 24,
      "metadata": {
        "execution": {
          "iopub.execute_input": "2021-01-13T05:49:01.353149Z",
          "iopub.status.busy": "2021-01-13T05:49:01.352385Z",
          "iopub.status.idle": "2021-01-13T05:49:01.355446Z",
          "shell.execute_reply": "2021-01-13T05:49:01.354839Z"
        },
        "papermill": {
          "duration": 0.036476,
          "end_time": "2021-01-13T05:49:01.355542",
          "exception": false,
          "start_time": "2021-01-13T05:49:01.319066",
          "status": "completed"
        },
        "tags": [],
        "id": "bCpCXfsYHSx0"
      },
      "outputs": [],
      "source": [
        "class DuelingDDQN(nn.Module): \n",
        "    def __init__(self, obs, ac, config): \n",
        "        super().__init__()\n",
        "\n",
        "        self.q = DuelingNetwork(obs, ac).to(device)\n",
        "        self.target = DuelingNetwork(obs, ac).to(device)\n",
        "\n",
        "        self.target.load_state_dict(self.q.state_dict())\n",
        "\n",
        "        self.target_net_update_freq = config.target_net_update_freq\n",
        "        self.update_counter = 0\n",
        "\n",
        "    def get_action(self, x):\n",
        "        #x = torch.FloatTensor(x).to(device)\n",
        "        x = torch.FloatTensor(x).to(device).view(-1,130)\n",
        "        with torch.no_grad(): \n",
        "            a = self.q(x).max(1)[1]\n",
        "\n",
        "        #return a.item()\n",
        "        return a.detach().cpu().numpy()\n",
        "\n",
        "    def update_policy(self, adam, memory, params): \n",
        "        b_states, b_actions, b_rewards, b_next_states, b_masks = memory.sample(params.batch_size)\n",
        "\n",
        "        states = torch.FloatTensor(b_states).to(device)\n",
        "        actions = torch.LongTensor(b_actions).reshape(-1,1).to(device)\n",
        "        rewards = torch.FloatTensor(b_rewards).reshape(-1,1).to(device)\n",
        "        next_states = torch.FloatTensor(b_next_states).to(device)\n",
        "        masks = torch.FloatTensor(b_masks).reshape(-1,1).to(device)\n",
        "\n",
        "        current_q_values = self.q(states).gather(1, actions)\n",
        "\n",
        "        with torch.no_grad():\n",
        "            max_next_q_vals = self.target(next_states).max(1)[0].reshape(-1,1)\n",
        "\n",
        "        expected_q_vals = rewards + max_next_q_vals * 0.99 * masks\n",
        "\n",
        "        loss = F.mse_loss(expected_q_vals, current_q_values)\n",
        "        \n",
        "        adam.zero_grad()\n",
        "        loss.backward()\n",
        "\n",
        "        for p in self.q.parameters(): \n",
        "            p.grad.data.clamp_(-1.,1.)\n",
        "        adam.step()\n",
        "\n",
        "        self.update_counter += 1\n",
        "        if self.update_counter % self.target_net_update_freq == 0: \n",
        "            self.update_counter = 0 \n",
        "            self.target.load_state_dict(self.q.state_dict())"
      ]
    },
    {
      "cell_type": "markdown",
      "metadata": {
        "papermill": {
          "duration": 0.015654,
          "end_time": "2021-01-13T05:49:01.387141",
          "exception": false,
          "start_time": "2021-01-13T05:49:01.371487",
          "status": "completed"
        },
        "tags": [],
        "id": "86PddapxHSx0"
      },
      "source": [
        "# Training"
      ]
    },
    {
      "cell_type": "code",
      "execution_count": 18,
      "metadata": {
        "execution": {
          "iopub.execute_input": "2021-01-13T05:49:01.437979Z",
          "iopub.status.busy": "2021-01-13T05:49:01.437156Z",
          "iopub.status.idle": "2021-01-13T05:49:07.717187Z",
          "shell.execute_reply": "2021-01-13T05:49:07.715896Z"
        },
        "papermill": {
          "duration": 6.314318,
          "end_time": "2021-01-13T05:49:07.717327",
          "exception": false,
          "start_time": "2021-01-13T05:49:01.403009",
          "status": "completed"
        },
        "tags": [],
        "id": "ze_kOJzEHSx1"
      },
      "outputs": [],
      "source": [
        "env = Env(df_train, features)       \n",
        "config = Config(epsilon_start = 1.,\n",
        "                epsilon_final = 0.01,\n",
        "                epsilon_decay = 8000,\n",
        "                gamma = 0.99, \n",
        "                lr = 1e-4, \n",
        "                target_net_update_freq = 500, \n",
        "                memory_size = env.n_samples // 100, \n",
        "                batch_size = 128, \n",
        "                learning_starts = 5000,\n",
        "                max_frames = env.n_samples)\n",
        "memory = ExperienceReplay(config.memory_size)\n",
        "agent = DuelingDDQN(env.observation_space, env.action_space, config)\n",
        "adam = optim.Adam(agent.q.parameters(), lr = config.lr) "
      ]
    },
    {
      "cell_type": "code",
      "execution_count": 19,
      "metadata": {
        "execution": {
          "iopub.execute_input": "2021-01-13T05:49:07.803959Z",
          "iopub.status.busy": "2021-01-13T05:49:07.803115Z",
          "iopub.status.idle": "2021-01-13T10:02:13.538067Z",
          "shell.execute_reply": "2021-01-13T10:02:13.538562Z"
        },
        "papermill": {
          "duration": 15185.804898,
          "end_time": "2021-01-13T10:02:13.538730",
          "exception": false,
          "start_time": "2021-01-13T05:49:07.733832",
          "status": "completed"
        },
        "tags": [],
        "colab": {
          "base_uri": "https://localhost:8080/",
          "height": 49,
          "referenced_widgets": [
            "256ffdd063b84e9c90078ae1e49357a9",
            "8eb233f1734d4926adbcbd965918036c",
            "c2197a6336f643ae9b70dc5ae50d490e",
            "efbc2bb98b6f43668346863a16154cd0",
            "06cf1bbb59e846e29b1a2e035964a83b",
            "e877b4ec52d84805914bc009610b9d12",
            "6d72938cf5f444439ba019bd7f125e95",
            "7f4ab929d20343b2b674a0b5c1e2eec7",
            "39ea348febfe4cd5a9bdde6bbfe5ff3d",
            "81eb1cd706f74a61b34cdaf88cc81fb7",
            "48ec388051f64d1e8d1c00e951b1660a"
          ]
        },
        "id": "tFM07qFNHSx1",
        "outputId": "17209933-7bc3-434f-f9c9-a063b977335d"
      },
      "outputs": [
        {
          "output_type": "display_data",
          "data": {
            "application/vnd.jupyter.widget-view+json": {
              "model_id": "256ffdd063b84e9c90078ae1e49357a9",
              "version_minor": 0,
              "version_major": 2
            },
            "text/plain": [
              "  0%|          | 0/1783158 [00:00<?, ?it/s]"
            ]
          },
          "metadata": {}
        },
        {
          "output_type": "stream",
          "name": "stdout",
          "text": [
            ""
          ]
        }
      ],
      "source": [
        "s = env.reset()\n",
        "# cumulative reward per epoche (sum of resps for all rows in train set \n",
        "# depending on the agents actions) \n",
        "ep_reward = 0. \n",
        "# ep_reward for epoches\n",
        "recap = []\n",
        "# ep_reward for after each 1000 rows in train set\n",
        "rewards = []\n",
        "\n",
        "p_bar = tqdm(total = config.max_frames)\n",
        "for frame in range(config.max_frames):\n",
        "\n",
        "    epsilon = config.epsilon_by_frame(frame)\n",
        "\n",
        "    # epsilon greedy action choise with decreasing temperature\n",
        "    if np.random.random() > epsilon: \n",
        "        action = agent.get_action(s)\n",
        "    else: \n",
        "        action = np.random.randint(0, env.action_space)\n",
        "\n",
        "    ns, r, done, infos = env.step(action)\n",
        "    ep_reward += r \n",
        "    if done:\n",
        "        ns = env.reset()\n",
        "        recap.append(ep_reward)\n",
        "        p_bar.set_description('Rew: {:.3f}'.format(ep_reward))\n",
        "        ep_reward = 0.\n",
        "\n",
        "    memory.push((s.reshape(-1).numpy().tolist(), action, r, ns.reshape(-1).numpy().tolist(), 0. if done else 1.))\n",
        "    s = ns  \n",
        "\n",
        "    p_bar.update(1)\n",
        "\n",
        "    if frame > config.learning_starts:\n",
        "        agent.update_policy(adam, memory, config)\n",
        "\n",
        "    if frame % 1000 == 0:\n",
        "        print(f'{frame + 1}/{config.max_frames}:', ep_reward, end = '\\r')\n",
        "        rewards.append(ep_reward.item())\n",
        "\n",
        "p_bar.close()"
      ]
    },
    {
      "cell_type": "code",
      "source": [
        "np.save('rewards.npy', rewards)"
      ],
      "metadata": {
        "id": "go_-ujHSZR8W"
      },
      "execution_count": 20,
      "outputs": []
    },
    {
      "cell_type": "code",
      "source": [
        "s = env.reset()\n",
        "# cumulative reward per epoche (sum of resps for all rows in train set \n",
        "# depending on the agents actions)\n",
        "\n",
        "p_bar = tqdm(total = config.max_frames)\n",
        "for frame in range(config.max_frames):\n",
        "\n",
        "    epsilon = 0.01\n",
        "\n",
        "    # epsilon greedy action choise with decreasing temperature\n",
        "    if np.random.random() > epsilon: \n",
        "        action = agent.get_action(s)\n",
        "    else: \n",
        "        action = np.random.randint(0, env.action_space)\n",
        "\n",
        "    ns, r, done, infos = env.step(action)\n",
        "    ep_reward += r \n",
        "    if done:\n",
        "        ns = env.reset()\n",
        "        recap.append(ep_reward)\n",
        "        p_bar.set_description('Rew: {:.3f}'.format(ep_reward))\n",
        "        ep_reward = 0.\n",
        "\n",
        "    memory.push((s.reshape(-1).numpy().tolist(), action, r, ns.reshape(-1).numpy().tolist(), 0. if done else 1.))\n",
        "    s = ns  \n",
        "\n",
        "    p_bar.update(1)\n",
        "\n",
        "    if frame > config.learning_starts:\n",
        "        agent.update_policy(adam, memory, config)\n",
        "\n",
        "    if frame % 1000 == 0:\n",
        "        print(f'{frame + 1}/{config.max_frames}:', ep_reward, end = '\\r')\n",
        "        rewards.append(ep_reward.item())\n",
        "\n",
        "p_bar.close()"
      ],
      "metadata": {
        "colab": {
          "base_uri": "https://localhost:8080/",
          "height": 49,
          "referenced_widgets": [
            "fcfaa17725a24498b849fd51de26f004",
            "ee8797e7275440c4957f8a2e0015d840",
            "c5551dd179744f72b551d5e6f9ca9437",
            "5262a351cb37414b88ac08478796335b",
            "b62cbc2aba7540eca3c46954cf9ea0a9",
            "b032e351a5654e4f80c5f414154ab525",
            "0443f1ace6754d28b08a28df5c2d3f93",
            "bcc6408f7f584f4b9644acc868e9ed0e",
            "f9ed06bbf4ad4176a8a772273f332fd4",
            "38d6b213dd7f432f91dc06815533ded3",
            "f3179221a78f4396a61e15dbc80973fe"
          ]
        },
        "id": "_NJM54V12ZoU",
        "outputId": "dce1cae8-f170-4504-ab1b-24faacb158ea"
      },
      "execution_count": 21,
      "outputs": [
        {
          "output_type": "display_data",
          "data": {
            "application/vnd.jupyter.widget-view+json": {
              "model_id": "fcfaa17725a24498b849fd51de26f004",
              "version_minor": 0,
              "version_major": 2
            },
            "text/plain": [
              "  0%|          | 0/1783158 [00:00<?, ?it/s]"
            ]
          },
          "metadata": {}
        },
        {
          "output_type": "stream",
          "name": "stdout",
          "text": [
            ""
          ]
        }
      ]
    },
    {
      "cell_type": "code",
      "source": [
        "torch.save(agent.state_dict(), './dueling_dqn.pt')"
      ],
      "metadata": {
        "id": "_qkZ0WEaVdC2"
      },
      "execution_count": 22,
      "outputs": []
    },
    {
      "cell_type": "code",
      "source": [
        "torch.save(agent.q.state_dict(), './q_for_dueling.pt')"
      ],
      "metadata": {
        "id": "xV7n0Xm6Vhwh"
      },
      "execution_count": 23,
      "outputs": []
    },
    {
      "cell_type": "markdown",
      "source": [
        "# Load"
      ],
      "metadata": {
        "id": "vE1Nk089QpPA"
      }
    },
    {
      "cell_type": "code",
      "source": [
        "class DuelingDDQN(nn.Module): \n",
        "    def __init__(self, obs, ac, config): \n",
        "        super().__init__()\n",
        "\n",
        "        self.q = DuelingNetwork(obs, ac).to(device)\n",
        "        self.target = DuelingNetwork(obs, ac).to(device)\n",
        "\n",
        "        self.target.load_state_dict(self.q.state_dict())\n",
        "\n",
        "        self.target_net_update_freq = config.target_net_update_freq\n",
        "        self.update_counter = 0\n",
        "\n",
        "    def get_action(self, x):\n",
        "        #x = torch.FloatTensor(x).to(device)\n",
        "        x = torch.FloatTensor(x).to(device).view(-1,130)\n",
        "        with torch.no_grad(): \n",
        "            a = self.q(x).max(1)[1]\n",
        "\n",
        "        #return a.item()\n",
        "        return a.detach().cpu().numpy()\n",
        "\n",
        "    def update_policy(self, adam, memory, params): \n",
        "        b_states, b_actions, b_rewards, b_next_states, b_masks = memory.sample(params.batch_size)\n",
        "\n",
        "        states = torch.FloatTensor(b_states).to(device)\n",
        "        actions = torch.LongTensor(b_actions).reshape(-1,1).to(device)\n",
        "        rewards = torch.FloatTensor(b_rewards).reshape(-1,1).to(device)\n",
        "        next_states = torch.FloatTensor(b_next_states).to(device)\n",
        "        masks = torch.FloatTensor(b_masks).reshape(-1,1).to(device)\n",
        "\n",
        "        current_q_values = self.q(states).gather(1, actions)\n",
        "\n",
        "        with torch.no_grad():\n",
        "            max_next_q_vals = self.target(next_states).max(1)[0].reshape(-1,1)\n",
        "\n",
        "        expected_q_vals = rewards + max_next_q_vals * 0.99 * masks\n",
        "\n",
        "        loss = F.mse_loss(expected_q_vals, current_q_values)\n",
        "        \n",
        "        adam.zero_grad()\n",
        "        loss.backward()\n",
        "\n",
        "        for p in self.q.parameters(): \n",
        "            p.grad.data.clamp_(-1.,1.)\n",
        "        adam.step()\n",
        "\n",
        "        self.update_counter += 1\n",
        "        if self.update_counter % self.target_net_update_freq == 0: \n",
        "            self.update_counter = 0 \n",
        "            self.target.load_state_dict(self.q.state_dict())"
      ],
      "metadata": {
        "id": "5UsEEIf1Qqn4"
      },
      "execution_count": null,
      "outputs": []
    },
    {
      "cell_type": "code",
      "source": [
        "checkpoint_path = './dueling_dqn_v3.pt'\n",
        "q_chechpoint_path = './q_for_dueling_dqn_v3.pt'\n",
        "\n",
        "env = Env(df_valid, features)  \n",
        "config = Config(epsilon_start = 1.,\n",
        "                epsilon_final = 0.01,\n",
        "                epsilon_decay = 8000,\n",
        "                gamma = 0.99, \n",
        "                lr = 1e-4, \n",
        "                target_net_update_freq = 1000, \n",
        "                memory_size = env.n_samples // 100, \n",
        "                batch_size = 128, \n",
        "                learning_starts = 5000,\n",
        "                max_frames = env.n_samples)\n",
        "agent = DuelingDDQN(env.observation_space, env.action_space, config)\n",
        "agent.load_state_dict(torch.load(checkpoint_path, map_location = device))\n",
        "agent.eval()\n",
        "\n",
        "agent.q.load_state_dict(torch.load(q_chechpoint_path, map_location = device))\n",
        "agent.eval()"
      ],
      "metadata": {
        "colab": {
          "base_uri": "https://localhost:8080/"
        },
        "id": "LywudOaxHvab",
        "outputId": "f0045a5f-ad7f-4efd-d23a-c2eb5cefcf1f"
      },
      "execution_count": 49,
      "outputs": [
        {
          "output_type": "execute_result",
          "data": {
            "text/plain": [
              "DuelingDDQN(\n",
              "  (q): DuelingNetwork(\n",
              "    (model): Sequential(\n",
              "      (0): Linear(in_features=130, out_features=512, bias=True)\n",
              "      (1): ReLU()\n",
              "      (2): Linear(in_features=512, out_features=256, bias=True)\n",
              "      (3): ReLU()\n",
              "    )\n",
              "    (value_head): Linear(in_features=256, out_features=1, bias=True)\n",
              "    (adv_head): Linear(in_features=256, out_features=2, bias=True)\n",
              "  )\n",
              "  (target): DuelingNetwork(\n",
              "    (model): Sequential(\n",
              "      (0): Linear(in_features=130, out_features=512, bias=True)\n",
              "      (1): ReLU()\n",
              "      (2): Linear(in_features=512, out_features=256, bias=True)\n",
              "      (3): ReLU()\n",
              "    )\n",
              "    (value_head): Linear(in_features=256, out_features=1, bias=True)\n",
              "    (adv_head): Linear(in_features=256, out_features=2, bias=True)\n",
              "  )\n",
              ")"
            ]
          },
          "metadata": {},
          "execution_count": 49
        }
      ]
    },
    {
      "cell_type": "code",
      "source": [
        "assess_df = df_valid\n",
        "states = assess_df[features].values\n",
        "\n",
        "with torch.no_grad():\n",
        "    actions_for_test = agent.get_action(states)"
      ],
      "metadata": {
        "id": "LQJ7lafGHvde"
      },
      "execution_count": 50,
      "outputs": []
    },
    {
      "cell_type": "code",
      "source": [
        "sum(actions_for_test)/len(actions_for_test)"
      ],
      "metadata": {
        "colab": {
          "base_uri": "https://localhost:8080/"
        },
        "id": "SjY8MEebHvhS",
        "outputId": "8a7d7d6e-4fe6-4b52-bcf8-45bb9de3bf28"
      },
      "execution_count": 51,
      "outputs": [
        {
          "output_type": "execute_result",
          "data": {
            "text/plain": [
              "0.3537980114066522"
            ]
          },
          "metadata": {},
          "execution_count": 51
        }
      ]
    },
    {
      "cell_type": "code",
      "source": [
        "utility_score(assess_df, np.array(actions_for_test))"
      ],
      "metadata": {
        "colab": {
          "base_uri": "https://localhost:8080/"
        },
        "id": "6h7-fFZcH_6A",
        "outputId": "d8373340-78da-40d0-f084-caa4a1da3c31"
      },
      "execution_count": 52,
      "outputs": [
        {
          "output_type": "execute_result",
          "data": {
            "text/plain": [
              "458.9860157651982"
            ]
          },
          "metadata": {},
          "execution_count": 52
        }
      ]
    }
  ],
  "metadata": {
    "kernelspec": {
      "display_name": "Python 3",
      "language": "python",
      "name": "python3"
    },
    "language_info": {
      "codemirror_mode": {
        "name": "ipython",
        "version": 3
      },
      "file_extension": ".py",
      "mimetype": "text/x-python",
      "name": "python",
      "nbconvert_exporter": "python",
      "pygments_lexer": "ipython3",
      "version": "3.7.6"
    },
    "papermill": {
      "duration": 15349.93333,
      "end_time": "2021-01-13T10:02:21.447810",
      "environment_variables": {},
      "exception": null,
      "input_path": "__notebook__.ipynb",
      "output_path": "__notebook__.ipynb",
      "parameters": {},
      "start_time": "2021-01-13T05:46:31.514480",
      "version": "2.1.0"
    },
    "widgets": {
      "application/vnd.jupyter.widget-state+json": {
        "256ffdd063b84e9c90078ae1e49357a9": {
          "model_module": "@jupyter-widgets/controls",
          "model_name": "HBoxModel",
          "model_module_version": "1.5.0",
          "state": {
            "_view_name": "HBoxView",
            "_dom_classes": [],
            "_model_name": "HBoxModel",
            "_view_module": "@jupyter-widgets/controls",
            "_model_module_version": "1.5.0",
            "_view_count": null,
            "_view_module_version": "1.5.0",
            "box_style": "",
            "layout": "IPY_MODEL_8eb233f1734d4926adbcbd965918036c",
            "_model_module": "@jupyter-widgets/controls",
            "children": [
              "IPY_MODEL_c2197a6336f643ae9b70dc5ae50d490e",
              "IPY_MODEL_efbc2bb98b6f43668346863a16154cd0",
              "IPY_MODEL_06cf1bbb59e846e29b1a2e035964a83b"
            ]
          }
        },
        "8eb233f1734d4926adbcbd965918036c": {
          "model_module": "@jupyter-widgets/base",
          "model_name": "LayoutModel",
          "model_module_version": "1.2.0",
          "state": {
            "_view_name": "LayoutView",
            "grid_template_rows": null,
            "right": null,
            "justify_content": null,
            "_view_module": "@jupyter-widgets/base",
            "overflow": null,
            "_model_module_version": "1.2.0",
            "_view_count": null,
            "flex_flow": null,
            "width": null,
            "min_width": null,
            "border": null,
            "align_items": null,
            "bottom": null,
            "_model_module": "@jupyter-widgets/base",
            "top": null,
            "grid_column": null,
            "overflow_y": null,
            "overflow_x": null,
            "grid_auto_flow": null,
            "grid_area": null,
            "grid_template_columns": null,
            "flex": null,
            "_model_name": "LayoutModel",
            "justify_items": null,
            "grid_row": null,
            "max_height": null,
            "align_content": null,
            "visibility": null,
            "align_self": null,
            "height": null,
            "min_height": null,
            "padding": null,
            "grid_auto_rows": null,
            "grid_gap": null,
            "max_width": null,
            "order": null,
            "_view_module_version": "1.2.0",
            "grid_template_areas": null,
            "object_position": null,
            "object_fit": null,
            "grid_auto_columns": null,
            "margin": null,
            "display": null,
            "left": null
          }
        },
        "c2197a6336f643ae9b70dc5ae50d490e": {
          "model_module": "@jupyter-widgets/controls",
          "model_name": "HTMLModel",
          "model_module_version": "1.5.0",
          "state": {
            "_view_name": "HTMLView",
            "style": "IPY_MODEL_e877b4ec52d84805914bc009610b9d12",
            "_dom_classes": [],
            "description": "",
            "_model_name": "HTMLModel",
            "placeholder": "​",
            "_view_module": "@jupyter-widgets/controls",
            "_model_module_version": "1.5.0",
            "value": "Rew: 833.246: 100%",
            "_view_count": null,
            "_view_module_version": "1.5.0",
            "description_tooltip": null,
            "_model_module": "@jupyter-widgets/controls",
            "layout": "IPY_MODEL_6d72938cf5f444439ba019bd7f125e95"
          }
        },
        "efbc2bb98b6f43668346863a16154cd0": {
          "model_module": "@jupyter-widgets/controls",
          "model_name": "FloatProgressModel",
          "model_module_version": "1.5.0",
          "state": {
            "_view_name": "ProgressView",
            "style": "IPY_MODEL_7f4ab929d20343b2b674a0b5c1e2eec7",
            "_dom_classes": [],
            "description": "",
            "_model_name": "FloatProgressModel",
            "bar_style": "success",
            "max": 1783158,
            "_view_module": "@jupyter-widgets/controls",
            "_model_module_version": "1.5.0",
            "value": 1783158,
            "_view_count": null,
            "_view_module_version": "1.5.0",
            "orientation": "horizontal",
            "min": 0,
            "description_tooltip": null,
            "_model_module": "@jupyter-widgets/controls",
            "layout": "IPY_MODEL_39ea348febfe4cd5a9bdde6bbfe5ff3d"
          }
        },
        "06cf1bbb59e846e29b1a2e035964a83b": {
          "model_module": "@jupyter-widgets/controls",
          "model_name": "HTMLModel",
          "model_module_version": "1.5.0",
          "state": {
            "_view_name": "HTMLView",
            "style": "IPY_MODEL_81eb1cd706f74a61b34cdaf88cc81fb7",
            "_dom_classes": [],
            "description": "",
            "_model_name": "HTMLModel",
            "placeholder": "​",
            "_view_module": "@jupyter-widgets/controls",
            "_model_module_version": "1.5.0",
            "value": " 1783158/1783158 [2:46:30&lt;00:00, 165.64it/s]",
            "_view_count": null,
            "_view_module_version": "1.5.0",
            "description_tooltip": null,
            "_model_module": "@jupyter-widgets/controls",
            "layout": "IPY_MODEL_48ec388051f64d1e8d1c00e951b1660a"
          }
        },
        "e877b4ec52d84805914bc009610b9d12": {
          "model_module": "@jupyter-widgets/controls",
          "model_name": "DescriptionStyleModel",
          "model_module_version": "1.5.0",
          "state": {
            "_view_name": "StyleView",
            "_model_name": "DescriptionStyleModel",
            "description_width": "",
            "_view_module": "@jupyter-widgets/base",
            "_model_module_version": "1.5.0",
            "_view_count": null,
            "_view_module_version": "1.2.0",
            "_model_module": "@jupyter-widgets/controls"
          }
        },
        "6d72938cf5f444439ba019bd7f125e95": {
          "model_module": "@jupyter-widgets/base",
          "model_name": "LayoutModel",
          "model_module_version": "1.2.0",
          "state": {
            "_view_name": "LayoutView",
            "grid_template_rows": null,
            "right": null,
            "justify_content": null,
            "_view_module": "@jupyter-widgets/base",
            "overflow": null,
            "_model_module_version": "1.2.0",
            "_view_count": null,
            "flex_flow": null,
            "width": null,
            "min_width": null,
            "border": null,
            "align_items": null,
            "bottom": null,
            "_model_module": "@jupyter-widgets/base",
            "top": null,
            "grid_column": null,
            "overflow_y": null,
            "overflow_x": null,
            "grid_auto_flow": null,
            "grid_area": null,
            "grid_template_columns": null,
            "flex": null,
            "_model_name": "LayoutModel",
            "justify_items": null,
            "grid_row": null,
            "max_height": null,
            "align_content": null,
            "visibility": null,
            "align_self": null,
            "height": null,
            "min_height": null,
            "padding": null,
            "grid_auto_rows": null,
            "grid_gap": null,
            "max_width": null,
            "order": null,
            "_view_module_version": "1.2.0",
            "grid_template_areas": null,
            "object_position": null,
            "object_fit": null,
            "grid_auto_columns": null,
            "margin": null,
            "display": null,
            "left": null
          }
        },
        "7f4ab929d20343b2b674a0b5c1e2eec7": {
          "model_module": "@jupyter-widgets/controls",
          "model_name": "ProgressStyleModel",
          "model_module_version": "1.5.0",
          "state": {
            "_view_name": "StyleView",
            "_model_name": "ProgressStyleModel",
            "description_width": "",
            "_view_module": "@jupyter-widgets/base",
            "_model_module_version": "1.5.0",
            "_view_count": null,
            "_view_module_version": "1.2.0",
            "bar_color": null,
            "_model_module": "@jupyter-widgets/controls"
          }
        },
        "39ea348febfe4cd5a9bdde6bbfe5ff3d": {
          "model_module": "@jupyter-widgets/base",
          "model_name": "LayoutModel",
          "model_module_version": "1.2.0",
          "state": {
            "_view_name": "LayoutView",
            "grid_template_rows": null,
            "right": null,
            "justify_content": null,
            "_view_module": "@jupyter-widgets/base",
            "overflow": null,
            "_model_module_version": "1.2.0",
            "_view_count": null,
            "flex_flow": null,
            "width": null,
            "min_width": null,
            "border": null,
            "align_items": null,
            "bottom": null,
            "_model_module": "@jupyter-widgets/base",
            "top": null,
            "grid_column": null,
            "overflow_y": null,
            "overflow_x": null,
            "grid_auto_flow": null,
            "grid_area": null,
            "grid_template_columns": null,
            "flex": null,
            "_model_name": "LayoutModel",
            "justify_items": null,
            "grid_row": null,
            "max_height": null,
            "align_content": null,
            "visibility": null,
            "align_self": null,
            "height": null,
            "min_height": null,
            "padding": null,
            "grid_auto_rows": null,
            "grid_gap": null,
            "max_width": null,
            "order": null,
            "_view_module_version": "1.2.0",
            "grid_template_areas": null,
            "object_position": null,
            "object_fit": null,
            "grid_auto_columns": null,
            "margin": null,
            "display": null,
            "left": null
          }
        },
        "81eb1cd706f74a61b34cdaf88cc81fb7": {
          "model_module": "@jupyter-widgets/controls",
          "model_name": "DescriptionStyleModel",
          "model_module_version": "1.5.0",
          "state": {
            "_view_name": "StyleView",
            "_model_name": "DescriptionStyleModel",
            "description_width": "",
            "_view_module": "@jupyter-widgets/base",
            "_model_module_version": "1.5.0",
            "_view_count": null,
            "_view_module_version": "1.2.0",
            "_model_module": "@jupyter-widgets/controls"
          }
        },
        "48ec388051f64d1e8d1c00e951b1660a": {
          "model_module": "@jupyter-widgets/base",
          "model_name": "LayoutModel",
          "model_module_version": "1.2.0",
          "state": {
            "_view_name": "LayoutView",
            "grid_template_rows": null,
            "right": null,
            "justify_content": null,
            "_view_module": "@jupyter-widgets/base",
            "overflow": null,
            "_model_module_version": "1.2.0",
            "_view_count": null,
            "flex_flow": null,
            "width": null,
            "min_width": null,
            "border": null,
            "align_items": null,
            "bottom": null,
            "_model_module": "@jupyter-widgets/base",
            "top": null,
            "grid_column": null,
            "overflow_y": null,
            "overflow_x": null,
            "grid_auto_flow": null,
            "grid_area": null,
            "grid_template_columns": null,
            "flex": null,
            "_model_name": "LayoutModel",
            "justify_items": null,
            "grid_row": null,
            "max_height": null,
            "align_content": null,
            "visibility": null,
            "align_self": null,
            "height": null,
            "min_height": null,
            "padding": null,
            "grid_auto_rows": null,
            "grid_gap": null,
            "max_width": null,
            "order": null,
            "_view_module_version": "1.2.0",
            "grid_template_areas": null,
            "object_position": null,
            "object_fit": null,
            "grid_auto_columns": null,
            "margin": null,
            "display": null,
            "left": null
          }
        },
        "fcfaa17725a24498b849fd51de26f004": {
          "model_module": "@jupyter-widgets/controls",
          "model_name": "HBoxModel",
          "model_module_version": "1.5.0",
          "state": {
            "_view_name": "HBoxView",
            "_dom_classes": [],
            "_model_name": "HBoxModel",
            "_view_module": "@jupyter-widgets/controls",
            "_model_module_version": "1.5.0",
            "_view_count": null,
            "_view_module_version": "1.5.0",
            "box_style": "",
            "layout": "IPY_MODEL_ee8797e7275440c4957f8a2e0015d840",
            "_model_module": "@jupyter-widgets/controls",
            "children": [
              "IPY_MODEL_c5551dd179744f72b551d5e6f9ca9437",
              "IPY_MODEL_5262a351cb37414b88ac08478796335b",
              "IPY_MODEL_b62cbc2aba7540eca3c46954cf9ea0a9"
            ]
          }
        },
        "ee8797e7275440c4957f8a2e0015d840": {
          "model_module": "@jupyter-widgets/base",
          "model_name": "LayoutModel",
          "model_module_version": "1.2.0",
          "state": {
            "_view_name": "LayoutView",
            "grid_template_rows": null,
            "right": null,
            "justify_content": null,
            "_view_module": "@jupyter-widgets/base",
            "overflow": null,
            "_model_module_version": "1.2.0",
            "_view_count": null,
            "flex_flow": null,
            "width": null,
            "min_width": null,
            "border": null,
            "align_items": null,
            "bottom": null,
            "_model_module": "@jupyter-widgets/base",
            "top": null,
            "grid_column": null,
            "overflow_y": null,
            "overflow_x": null,
            "grid_auto_flow": null,
            "grid_area": null,
            "grid_template_columns": null,
            "flex": null,
            "_model_name": "LayoutModel",
            "justify_items": null,
            "grid_row": null,
            "max_height": null,
            "align_content": null,
            "visibility": null,
            "align_self": null,
            "height": null,
            "min_height": null,
            "padding": null,
            "grid_auto_rows": null,
            "grid_gap": null,
            "max_width": null,
            "order": null,
            "_view_module_version": "1.2.0",
            "grid_template_areas": null,
            "object_position": null,
            "object_fit": null,
            "grid_auto_columns": null,
            "margin": null,
            "display": null,
            "left": null
          }
        },
        "c5551dd179744f72b551d5e6f9ca9437": {
          "model_module": "@jupyter-widgets/controls",
          "model_name": "HTMLModel",
          "model_module_version": "1.5.0",
          "state": {
            "_view_name": "HTMLView",
            "style": "IPY_MODEL_b032e351a5654e4f80c5f414154ab525",
            "_dom_classes": [],
            "description": "",
            "_model_name": "HTMLModel",
            "placeholder": "​",
            "_view_module": "@jupyter-widgets/controls",
            "_model_module_version": "1.5.0",
            "value": "Rew: 842.733: 100%",
            "_view_count": null,
            "_view_module_version": "1.5.0",
            "description_tooltip": null,
            "_model_module": "@jupyter-widgets/controls",
            "layout": "IPY_MODEL_0443f1ace6754d28b08a28df5c2d3f93"
          }
        },
        "5262a351cb37414b88ac08478796335b": {
          "model_module": "@jupyter-widgets/controls",
          "model_name": "FloatProgressModel",
          "model_module_version": "1.5.0",
          "state": {
            "_view_name": "ProgressView",
            "style": "IPY_MODEL_bcc6408f7f584f4b9644acc868e9ed0e",
            "_dom_classes": [],
            "description": "",
            "_model_name": "FloatProgressModel",
            "bar_style": "success",
            "max": 1783158,
            "_view_module": "@jupyter-widgets/controls",
            "_model_module_version": "1.5.0",
            "value": 1783158,
            "_view_count": null,
            "_view_module_version": "1.5.0",
            "orientation": "horizontal",
            "min": 0,
            "description_tooltip": null,
            "_model_module": "@jupyter-widgets/controls",
            "layout": "IPY_MODEL_f9ed06bbf4ad4176a8a772273f332fd4"
          }
        },
        "b62cbc2aba7540eca3c46954cf9ea0a9": {
          "model_module": "@jupyter-widgets/controls",
          "model_name": "HTMLModel",
          "model_module_version": "1.5.0",
          "state": {
            "_view_name": "HTMLView",
            "style": "IPY_MODEL_38d6b213dd7f432f91dc06815533ded3",
            "_dom_classes": [],
            "description": "",
            "_model_name": "HTMLModel",
            "placeholder": "​",
            "_view_module": "@jupyter-widgets/controls",
            "_model_module_version": "1.5.0",
            "value": " 1783158/1783158 [2:56:58&lt;00:00, 155.42it/s]",
            "_view_count": null,
            "_view_module_version": "1.5.0",
            "description_tooltip": null,
            "_model_module": "@jupyter-widgets/controls",
            "layout": "IPY_MODEL_f3179221a78f4396a61e15dbc80973fe"
          }
        },
        "b032e351a5654e4f80c5f414154ab525": {
          "model_module": "@jupyter-widgets/controls",
          "model_name": "DescriptionStyleModel",
          "model_module_version": "1.5.0",
          "state": {
            "_view_name": "StyleView",
            "_model_name": "DescriptionStyleModel",
            "description_width": "",
            "_view_module": "@jupyter-widgets/base",
            "_model_module_version": "1.5.0",
            "_view_count": null,
            "_view_module_version": "1.2.0",
            "_model_module": "@jupyter-widgets/controls"
          }
        },
        "0443f1ace6754d28b08a28df5c2d3f93": {
          "model_module": "@jupyter-widgets/base",
          "model_name": "LayoutModel",
          "model_module_version": "1.2.0",
          "state": {
            "_view_name": "LayoutView",
            "grid_template_rows": null,
            "right": null,
            "justify_content": null,
            "_view_module": "@jupyter-widgets/base",
            "overflow": null,
            "_model_module_version": "1.2.0",
            "_view_count": null,
            "flex_flow": null,
            "width": null,
            "min_width": null,
            "border": null,
            "align_items": null,
            "bottom": null,
            "_model_module": "@jupyter-widgets/base",
            "top": null,
            "grid_column": null,
            "overflow_y": null,
            "overflow_x": null,
            "grid_auto_flow": null,
            "grid_area": null,
            "grid_template_columns": null,
            "flex": null,
            "_model_name": "LayoutModel",
            "justify_items": null,
            "grid_row": null,
            "max_height": null,
            "align_content": null,
            "visibility": null,
            "align_self": null,
            "height": null,
            "min_height": null,
            "padding": null,
            "grid_auto_rows": null,
            "grid_gap": null,
            "max_width": null,
            "order": null,
            "_view_module_version": "1.2.0",
            "grid_template_areas": null,
            "object_position": null,
            "object_fit": null,
            "grid_auto_columns": null,
            "margin": null,
            "display": null,
            "left": null
          }
        },
        "bcc6408f7f584f4b9644acc868e9ed0e": {
          "model_module": "@jupyter-widgets/controls",
          "model_name": "ProgressStyleModel",
          "model_module_version": "1.5.0",
          "state": {
            "_view_name": "StyleView",
            "_model_name": "ProgressStyleModel",
            "description_width": "",
            "_view_module": "@jupyter-widgets/base",
            "_model_module_version": "1.5.0",
            "_view_count": null,
            "_view_module_version": "1.2.0",
            "bar_color": null,
            "_model_module": "@jupyter-widgets/controls"
          }
        },
        "f9ed06bbf4ad4176a8a772273f332fd4": {
          "model_module": "@jupyter-widgets/base",
          "model_name": "LayoutModel",
          "model_module_version": "1.2.0",
          "state": {
            "_view_name": "LayoutView",
            "grid_template_rows": null,
            "right": null,
            "justify_content": null,
            "_view_module": "@jupyter-widgets/base",
            "overflow": null,
            "_model_module_version": "1.2.0",
            "_view_count": null,
            "flex_flow": null,
            "width": null,
            "min_width": null,
            "border": null,
            "align_items": null,
            "bottom": null,
            "_model_module": "@jupyter-widgets/base",
            "top": null,
            "grid_column": null,
            "overflow_y": null,
            "overflow_x": null,
            "grid_auto_flow": null,
            "grid_area": null,
            "grid_template_columns": null,
            "flex": null,
            "_model_name": "LayoutModel",
            "justify_items": null,
            "grid_row": null,
            "max_height": null,
            "align_content": null,
            "visibility": null,
            "align_self": null,
            "height": null,
            "min_height": null,
            "padding": null,
            "grid_auto_rows": null,
            "grid_gap": null,
            "max_width": null,
            "order": null,
            "_view_module_version": "1.2.0",
            "grid_template_areas": null,
            "object_position": null,
            "object_fit": null,
            "grid_auto_columns": null,
            "margin": null,
            "display": null,
            "left": null
          }
        },
        "38d6b213dd7f432f91dc06815533ded3": {
          "model_module": "@jupyter-widgets/controls",
          "model_name": "DescriptionStyleModel",
          "model_module_version": "1.5.0",
          "state": {
            "_view_name": "StyleView",
            "_model_name": "DescriptionStyleModel",
            "description_width": "",
            "_view_module": "@jupyter-widgets/base",
            "_model_module_version": "1.5.0",
            "_view_count": null,
            "_view_module_version": "1.2.0",
            "_model_module": "@jupyter-widgets/controls"
          }
        },
        "f3179221a78f4396a61e15dbc80973fe": {
          "model_module": "@jupyter-widgets/base",
          "model_name": "LayoutModel",
          "model_module_version": "1.2.0",
          "state": {
            "_view_name": "LayoutView",
            "grid_template_rows": null,
            "right": null,
            "justify_content": null,
            "_view_module": "@jupyter-widgets/base",
            "overflow": null,
            "_model_module_version": "1.2.0",
            "_view_count": null,
            "flex_flow": null,
            "width": null,
            "min_width": null,
            "border": null,
            "align_items": null,
            "bottom": null,
            "_model_module": "@jupyter-widgets/base",
            "top": null,
            "grid_column": null,
            "overflow_y": null,
            "overflow_x": null,
            "grid_auto_flow": null,
            "grid_area": null,
            "grid_template_columns": null,
            "flex": null,
            "_model_name": "LayoutModel",
            "justify_items": null,
            "grid_row": null,
            "max_height": null,
            "align_content": null,
            "visibility": null,
            "align_self": null,
            "height": null,
            "min_height": null,
            "padding": null,
            "grid_auto_rows": null,
            "grid_gap": null,
            "max_width": null,
            "order": null,
            "_view_module_version": "1.2.0",
            "grid_template_areas": null,
            "object_position": null,
            "object_fit": null,
            "grid_auto_columns": null,
            "margin": null,
            "display": null,
            "left": null
          }
        }
      }
    },
    "colab": {
      "name": "dueling-dqn.ipynb",
      "provenance": [],
      "machine_shape": "hm",
      "collapsed_sections": []
    },
    "accelerator": "GPU"
  },
  "nbformat": 4,
  "nbformat_minor": 0
}