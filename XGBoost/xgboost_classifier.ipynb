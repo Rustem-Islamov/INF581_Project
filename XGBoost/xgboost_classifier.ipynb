{
  "cells": [
    {
      "cell_type": "code",
      "source": [
        "from google.colab import drive\n",
        "drive.mount('/content/drive')"
      ],
      "metadata": {
        "colab": {
          "base_uri": "https://localhost:8080/"
        },
        "id": "wb29WWiuzsZv",
        "outputId": "581f0e44-8f70-42ea-94b1-22ce2a08b8b9"
      },
      "execution_count": null,
      "outputs": [
        {
          "output_type": "stream",
          "name": "stdout",
          "text": [
            "Mounted at /content/drive\n"
          ]
        }
      ]
    },
    {
      "cell_type": "code",
      "execution_count": null,
      "metadata": {
        "_cell_guid": "b1076dfc-b9ad-4769-8c92-a6c4dae69d19",
        "_uuid": "8f2839f25d086af736a60e9eeb907d3b93b6e0e5",
        "execution": {
          "iopub.execute_input": "2021-01-16T06:54:34.322454Z",
          "iopub.status.busy": "2021-01-16T06:54:34.321615Z",
          "iopub.status.idle": "2021-01-16T06:54:38.581682Z",
          "shell.execute_reply": "2021-01-16T06:54:38.581101Z"
        },
        "papermill": {
          "duration": 4.276241,
          "end_time": "2021-01-16T06:54:38.581788",
          "exception": false,
          "start_time": "2021-01-16T06:54:34.305547",
          "status": "completed"
        },
        "tags": [],
        "id": "ugHwF-1vzl7Q"
      },
      "outputs": [],
      "source": [
        "import os\n",
        "import pickle\n",
        "import xgboost as xgb\n",
        "import numpy as np\n",
        "import pandas as pd\n",
        "\n",
        "import time\n",
        "from tqdm.notebook import tqdm\n",
        "\n",
        "import warnings\n",
        "warnings.filterwarnings(\"ignore\")"
      ]
    },
    {
      "cell_type": "markdown",
      "source": [
        "# Dataset processing"
      ],
      "metadata": {
        "id": "Ln7b5D_5VHVL"
      }
    },
    {
      "cell_type": "code",
      "source": [
        "def load_df(path):\n",
        "    df = pd.read_parquet(path + 'train.parquet')\n",
        "    features = [column for column in df.columns if 'feature' in column]\n",
        "    \n",
        "    return df, features\n",
        "\n",
        "\n",
        "# load data and features\n",
        "path = os.getcwd() + '/drive/MyDrive/'\n",
        "df, features = load_df(path)\n",
        "print(df.shape)\n",
        "print(len(features))"
      ],
      "metadata": {
        "colab": {
          "base_uri": "https://localhost:8080/"
        },
        "id": "Ja8XkIocIHU2",
        "outputId": "cdb68085-de68-453a-b78a-a5b268c25524"
      },
      "execution_count": null,
      "outputs": [
        {
          "output_type": "stream",
          "name": "stdout",
          "text": [
            "(2390491, 138)\n",
            "130\n"
          ]
        }
      ]
    },
    {
      "cell_type": "code",
      "execution_count": null,
      "metadata": {
        "execution": {
          "iopub.execute_input": "2021-01-16T06:57:09.732884Z",
          "iopub.status.busy": "2021-01-16T06:57:09.732350Z",
          "iopub.status.idle": "2021-01-16T06:57:17.692222Z",
          "shell.execute_reply": "2021-01-16T06:57:17.690655Z"
        },
        "papermill": {
          "duration": 7.983161,
          "end_time": "2021-01-16T06:57:17.692353",
          "exception": false,
          "start_time": "2021-01-16T06:57:09.709192",
          "status": "completed"
        },
        "tags": [],
        "id": "eLWMqXkzzl7i"
      },
      "outputs": [],
      "source": [
        "def add_actions(df, features):\n",
        "    f_mean = df[features[1:]].mean()\n",
        "    f_std = df[features[1:]].std()\n",
        "    \n",
        "    # delete all trading oportunities that are not taken into account for \n",
        "    # utility score calculation\n",
        "    df = df.query('weight > 0').reset_index(drop = True)\n",
        "\n",
        "    # normalize each feature\n",
        "    df[features[1:]] = df[features[1:]].fillna(f_mean)\n",
        "    df[features[1:]] = (df[features[1:]] - f_mean) / f_std\n",
        "\n",
        "    # add the correct action that should be chosen for each trading oportunity\n",
        "    df['action'] = (df['resp'] > 0).astype('int')\n",
        "    return df\n",
        "\n",
        "# add the action column\n",
        "df = add_actions(df, features)\n",
        "\n",
        "n_samples = df.shape[0]\n",
        "df_train = df[:int(0.9 * n_samples)]\n",
        "df_test = df[int(0.9 * n_samples):int(0.95 * n_samples)]\n",
        "df_valid = df[int(0.95 * n_samples):]\n",
        "\n",
        "X_train = df_train.loc[:, df_train.columns.str.contains('feature')]\n",
        "X_valid = df_valid.loc[:, df_valid.columns.str.contains('feature')]\n",
        "X_test = df_test.loc[:, df_test.columns.str.contains('feature')]\n",
        "y_train = df_train['action']\n",
        "y_valid = df_valid['action']\n",
        "y_test = df_test['action']"
      ]
    },
    {
      "cell_type": "code",
      "execution_count": null,
      "metadata": {
        "id": "CWWuiPCnzl7q"
      },
      "outputs": [],
      "source": [
        "def utility_score(df, action):\n",
        "    \"\"\"\n",
        "    df - pandas.dataframe,\n",
        "    action - numpy array with len df.shape[0]\n",
        "    \"\"\"\n",
        "    date, weight, resp = df['date'].values, df['weight'].values, df['resp'].values\n",
        "    count_i = len(np.unique(date))\n",
        "    Pi = np.bincount(date, weight * resp * action)\n",
        "    t = np.sum(Pi) / np.sqrt(np.sum(Pi ** 2)) * np.sqrt(250 / count_i)\n",
        "    u = np.clip(t, 0, 6) * np.sum(Pi)\n",
        "    return u"
      ]
    },
    {
      "cell_type": "markdown",
      "source": [
        "# Hyperparameters tuning"
      ],
      "metadata": {
        "id": "sd9MYlu6WUeg"
      }
    },
    {
      "cell_type": "code",
      "source": [
        "# default parameters\n",
        "\n",
        "clf = xgb.XGBClassifier(\n",
        "    tree_method='gpu_hist'\n",
        ")\n",
        "\n",
        "%time clf.fit(X_train, y_train)\n",
        "file_name = \"default.pkl\"\n",
        "pickle.dump(clf, open(file_name, \"wb\"))\n",
        "xgb_model = pickle.load(open(file_name, \"rb\"))\n",
        "preds = xgb_model.predict(X_valid)\n",
        "utility = utility_score(df_valid, preds)\n",
        "print(utility)"
      ],
      "metadata": {
        "colab": {
          "base_uri": "https://localhost:8080/"
        },
        "id": "8FtaCVNbWYUe",
        "outputId": "7e87e426-c3c5-4c28-9af8-d5e8cd6bd6a5"
      },
      "execution_count": null,
      "outputs": [
        {
          "output_type": "stream",
          "name": "stdout",
          "text": [
            "CPU times: user 1min 11s, sys: 864 ms, total: 1min 12s\n",
            "Wall time: 1min 11s\n",
            "1498.3463045168141\n"
          ]
        }
      ]
    },
    {
      "cell_type": "code",
      "source": [
        "# linear booster\n",
        "\n",
        "clf = xgb.XGBClassifier(\n",
        "    booster='gblinear',\n",
        "    tree_method='gpu_hist'\n",
        ")\n",
        "\n",
        "%time clf.fit(X_train, y_train)\n",
        "file_name = \"linear.pkl\"\n",
        "pickle.dump(clf, open(file_name, \"wb\"))\n",
        "xgb_model = pickle.load(open(file_name, \"rb\"))\n",
        "preds = xgb_model.predict(X_valid)\n",
        "utility = utility_score(df_valid, preds)\n",
        "print(utility)"
      ],
      "metadata": {
        "colab": {
          "base_uri": "https://localhost:8080/"
        },
        "id": "3zKa9UWJWqWi",
        "outputId": "47517b77-1be8-4cb3-c970-d8a2c5a5f6aa"
      },
      "execution_count": null,
      "outputs": [
        {
          "output_type": "stream",
          "name": "stdout",
          "text": [
            "CPU times: user 4min 23s, sys: 5.53 s, total: 4min 29s\n",
            "Wall time: 4min 28s\n",
            "1343.8330975604604\n"
          ]
        }
      ]
    },
    {
      "cell_type": "code",
      "source": [
        "# dart booster\n",
        "\n",
        "clf = xgb.XGBClassifier(\n",
        "    booster='dart',\n",
        "    tree_method='gpu_hist'\n",
        ")\n",
        "\n",
        "%time clf.fit(X_train, y_train)\n",
        "file_name = \"dart.pkl\"\n",
        "pickle.dump(clf, open(file_name, \"wb\"))\n",
        "xgb_model = pickle.load(open(file_name, \"rb\"))\n",
        "preds = xgb_model.predict(X_valid)\n",
        "utility = utility_score(df_valid, preds)\n",
        "print(utility)"
      ],
      "metadata": {
        "colab": {
          "base_uri": "https://localhost:8080/"
        },
        "id": "VGkBT5PbY-2x",
        "outputId": "dd21b09c-a948-4de8-c6d7-fbf68e0aa936"
      },
      "execution_count": null,
      "outputs": [
        {
          "output_type": "stream",
          "name": "stdout",
          "text": [
            "CPU times: user 6min 39s, sys: 1.95 s, total: 6min 41s\n",
            "Wall time: 6min 39s\n",
            "1491.8275908008322\n"
          ]
        }
      ]
    },
    {
      "cell_type": "code",
      "source": [
        "# n_estimators\n",
        "\n",
        "estimators = range(300, 900, 200)\n",
        "for n in estimators:\n",
        "    clf = xgb.XGBClassifier(\n",
        "        n_estimators=n,\n",
        "        tree_method='gpu_hist'\n",
        "    )\n",
        "\n",
        "    %time clf.fit(X_train, y_train)\n",
        "    file_name = \"n_est\" + str(n) + \".pkl\"\n",
        "    pickle.dump(clf, open(file_name, \"wb\"))\n",
        "    xgb_model = pickle.load(open(file_name, \"rb\"))\n",
        "    preds = xgb_model.predict(X_valid)\n",
        "    utility = utility_score(df_valid, preds)\n",
        "    print(\"utility for n_estimators {} is {}\".format(n, utility))"
      ],
      "metadata": {
        "colab": {
          "base_uri": "https://localhost:8080/"
        },
        "id": "UtEAvvyVc8Kr",
        "outputId": "b18ecd64-4b95-4b38-c62d-c1d8e50485a2"
      },
      "execution_count": null,
      "outputs": [
        {
          "output_type": "stream",
          "name": "stdout",
          "text": [
            "CPU times: user 3min 8s, sys: 834 ms, total: 3min 9s\n",
            "Wall time: 3min 8s\n",
            "utility for n_estimators 300 is 1569.7038068926515\n",
            "CPU times: user 5min 3s, sys: 877 ms, total: 5min 4s\n",
            "Wall time: 5min 2s\n",
            "utility for n_estimators 500 is 1591.3569392226661\n",
            "CPU times: user 7min 2s, sys: 957 ms, total: 7min 3s\n",
            "Wall time: 7min 1s\n",
            "utility for n_estimators 700 is 1581.5742408259798\n"
          ]
        }
      ]
    },
    {
      "cell_type": "code",
      "source": [
        "# max depth\n",
        "\n",
        "max_depths = [3, 7, 11, 13]\n",
        "for depth in max_depths:\n",
        "    clf = xgb.XGBClassifier(\n",
        "        n_estimators=500,\n",
        "        max_depth=depth,\n",
        "        tree_method='gpu_hist'\n",
        "    )\n",
        "\n",
        "    %time clf.fit(X_train, y_train)\n",
        "    file_name = \"depth\" + str(depth) + \".pkl\"\n",
        "    pickle.dump(clf, open(file_name, \"wb\"))\n",
        "    xgb_model = pickle.load(open(file_name, \"rb\"))\n",
        "    preds = xgb_model.predict(X_valid)\n",
        "    utility = utility_score(df_valid, preds)\n",
        "    print(\"utility for max depth {} is {}\".format(depth, utility))"
      ],
      "metadata": {
        "colab": {
          "base_uri": "https://localhost:8080/"
        },
        "id": "aSd9t2zaa8rH",
        "outputId": "b229914e-aa7f-4f2e-b529-fa1b673c97dc"
      },
      "execution_count": null,
      "outputs": [
        {
          "output_type": "stream",
          "name": "stdout",
          "text": [
            "CPU times: user 5min 4s, sys: 940 ms, total: 5min 5s\n",
            "Wall time: 5min 4s\n",
            "utility for max depth 3 is 1591.3569392226661\n",
            "CPU times: user 6min 51s, sys: 893 ms, total: 6min 52s\n",
            "Wall time: 6min 50s\n",
            "utility for max depth 7 is 1230.877361456051\n",
            "CPU times: user 9min 45s, sys: 1.22 s, total: 9min 47s\n",
            "Wall time: 9min 45s\n",
            "utility for max depth 11 is 786.8524075961818\n",
            "CPU times: user 12min 45s, sys: 1.41 s, total: 12min 47s\n",
            "Wall time: 12min 47s\n",
            "utility for max depth 13 is 810.2427474952403\n"
          ]
        }
      ]
    },
    {
      "cell_type": "code",
      "source": [
        "clf = xgb.XGBClassifier(\n",
        "        n_estimators=500,\n",
        "        max_depth=5,\n",
        "        tree_method='gpu_hist'\n",
        "    )\n",
        "\n",
        "%time clf.fit(X_train, y_train)\n",
        "file_name = \"depth\" + str(5) + \".pkl\"\n",
        "pickle.dump(clf, open(file_name, \"wb\"))\n",
        "xgb_model = pickle.load(open(file_name, \"rb\"))\n",
        "preds = xgb_model.predict(X_valid)\n",
        "utility = utility_score(df_valid, preds)\n",
        "print(\"utility for max depth {} is {}\".format(5, utility))"
      ],
      "metadata": {
        "colab": {
          "base_uri": "https://localhost:8080/"
        },
        "id": "Nwmjq093oqlO",
        "outputId": "ed29ae9d-bc1a-4fb8-da15-ea896a323ba7"
      },
      "execution_count": null,
      "outputs": [
        {
          "output_type": "stream",
          "name": "stdout",
          "text": [
            "CPU times: user 5min 55s, sys: 1.3 s, total: 5min 56s\n",
            "Wall time: 5min 54s\n",
            "utility for max depth 5 is 1436.3668865598925\n"
          ]
        }
      ]
    },
    {
      "cell_type": "code",
      "source": [
        "# learning rate\n",
        "\n",
        "learning_rate = [0.001, 0.01, 0.1]\n",
        "for lr in learning_rate:\n",
        "    clf = xgb.XGBClassifier(\n",
        "        n_estimators=500,\n",
        "        max_depth=3,\n",
        "        leatning_rate=lr,\n",
        "        tree_method='gpu_hist'\n",
        "    )\n",
        "\n",
        "    %time clf.fit(X_train, y_train)\n",
        "    file_name = \"lr\" + str(lr) + \".pkl\"\n",
        "    pickle.dump(clf, open(file_name, \"wb\"))\n",
        "    xgb_model = pickle.load(open(file_name, \"rb\"))\n",
        "    preds = xgb_model.predict(X_valid)\n",
        "    utility = utility_score(df_valid, preds)\n",
        "    print(\"utility for lr {} is {}\".format(lr, utility))"
      ],
      "metadata": {
        "colab": {
          "base_uri": "https://localhost:8080/"
        },
        "id": "Umqxg3DQd7AE",
        "outputId": "836b4a71-e5dc-4744-e428-846edc6fc22f"
      },
      "execution_count": null,
      "outputs": [
        {
          "output_type": "stream",
          "name": "stdout",
          "text": [
            "CPU times: user 5min 4s, sys: 937 ms, total: 5min 5s\n",
            "Wall time: 5min 3s\n",
            "utility for lr 0.001 is 1591.3569392226661\n",
            "CPU times: user 5min 4s, sys: 846 ms, total: 5min 5s\n",
            "Wall time: 5min 3s\n",
            "utility for lr 0.01 is 1591.3569392226661\n",
            "CPU times: user 5min 3s, sys: 814 ms, total: 5min 4s\n",
            "Wall time: 5min 2s\n",
            "utility for lr 0.1 is 1591.3569392226661\n"
          ]
        }
      ]
    },
    {
      "cell_type": "code",
      "source": [
        "subsamples = [0.8, 0.85, 0.9, 0.95]\n",
        "for subsample in subsamples:\n",
        "    clf = xgb.XGBClassifier(\n",
        "        n_estimators=500,\n",
        "        max_depth=3,\n",
        "        leatning_rate=0.01,\n",
        "        subsample=subsample,\n",
        "        tree_method='gpu_hist'\n",
        "    )\n",
        "\n",
        "    %time clf.fit(X_train, y_train)\n",
        "    file_name = \"subsample\" + str(subsample) + \".pkl\"\n",
        "    pickle.dump(clf, open(file_name, \"wb\"))\n",
        "    xgb_model = pickle.load(open(file_name, \"rb\"))\n",
        "    preds = xgb_model.predict(X_valid)\n",
        "    utility = utility_score(df_valid, preds)\n",
        "    print(\"utility for subsample {} is {}\".format(subsample, utility))"
      ],
      "metadata": {
        "colab": {
          "base_uri": "https://localhost:8080/"
        },
        "id": "m82ewqA1vmkw",
        "outputId": "59a49532-f814-45da-d4e6-e25859e332ea"
      },
      "execution_count": null,
      "outputs": [
        {
          "output_type": "stream",
          "name": "stdout",
          "text": [
            "CPU times: user 4min 43s, sys: 942 ms, total: 4min 44s\n",
            "Wall time: 4min 43s\n",
            "utility for subsample 0.8 is 1660.680341669935\n",
            "CPU times: user 4min 53s, sys: 845 ms, total: 4min 54s\n",
            "Wall time: 4min 52s\n",
            "utility for subsample 0.85 is 1521.3487816444795\n",
            "CPU times: user 4min 54s, sys: 856 ms, total: 4min 55s\n",
            "Wall time: 4min 53s\n",
            "utility for subsample 0.9 is 1650.3450043821158\n",
            "CPU times: user 5min 1s, sys: 901 ms, total: 5min 2s\n",
            "Wall time: 5min 1s\n",
            "utility for subsample 0.95 is 1691.098231945731\n"
          ]
        }
      ]
    },
    {
      "cell_type": "code",
      "source": [
        "colsample_bytrees = [0.5, 0.7, 0.9]\n",
        "for colsample_bytree in colsample_bytrees:\n",
        "    clf = xgb.XGBClassifier(\n",
        "        n_estimators=500,\n",
        "        max_depth=3,\n",
        "        leatning_rate=0.01,\n",
        "        subsample=0.95,\n",
        "        colsample_bytree=colsample_bytree,\n",
        "        missing=-999,\n",
        "        tree_method='gpu_hist'\n",
        "    )\n",
        "\n",
        "    %time clf.fit(X_train, y_train)\n",
        "    file_name = \"colsample_bytree\" + str(colsample_bytree) + \".pkl\"\n",
        "    pickle.dump(clf, open(file_name, \"wb\"))\n",
        "    xgb_model = pickle.load(open(file_name, \"rb\"))\n",
        "    preds = xgb_model.predict(X_valid)\n",
        "    utility = utility_score(df_valid, preds)\n",
        "    print(\"utility for colsample_bytree {} is {}\".format(colsample_bytree, utility))"
      ],
      "metadata": {
        "colab": {
          "base_uri": "https://localhost:8080/"
        },
        "id": "1ptXz_L_vtoO",
        "outputId": "6fb8680e-c1db-42eb-ce6b-0c46922abba2"
      },
      "execution_count": null,
      "outputs": [
        {
          "output_type": "stream",
          "name": "stdout",
          "text": [
            "CPU times: user 4min 58s, sys: 972 ms, total: 4min 59s\n",
            "Wall time: 4min 58s\n",
            "utility for colsample_bytree 0.5 is 1596.3770293180833\n",
            "CPU times: user 5min 1s, sys: 839 ms, total: 5min 2s\n",
            "Wall time: 5min 1s\n",
            "utility for colsample_bytree 0.7 is 1638.7770882556533\n",
            "CPU times: user 5min 3s, sys: 803 ms, total: 5min 4s\n",
            "Wall time: 5min 2s\n",
            "utility for colsample_bytree 0.9 is 1560.4173988946209\n"
          ]
        }
      ]
    },
    {
      "cell_type": "code",
      "source": [
        "# test the best model\n",
        "clf = xgb.XGBClassifier(\n",
        "        n_estimators=500,\n",
        "        max_depth=3,\n",
        "        leatning_rate=0.01,\n",
        "        subsample=0.95,\n",
        "        colsample_bytree=0.7,\n",
        "        missing=-999,\n",
        "        tree_method='gpu_hist'\n",
        "    )\n",
        "\n",
        "%time clf.fit(X_train, y_train)\n",
        "file_name = \"best.pkl\"\n",
        "pickle.dump(clf, open(file_name, \"wb\"))\n",
        "xgb_model = pickle.load(open(file_name, \"rb\"))\n",
        "preds = xgb_model.predict(X_test)\n",
        "utility = utility_score(df_test, preds)\n",
        "print(\"utility score of the best model is {}\".format(utility))"
      ],
      "metadata": {
        "colab": {
          "base_uri": "https://localhost:8080/"
        },
        "id": "VszMe6sk8cfI",
        "outputId": "5de1c3be-d71d-44d6-bf5d-2907a0979445"
      },
      "execution_count": null,
      "outputs": [
        {
          "output_type": "stream",
          "name": "stdout",
          "text": [
            "CPU times: user 5min 2s, sys: 916 ms, total: 5min 3s\n",
            "Wall time: 5min 2s\n",
            "utility score of the best model is 850.8818457293037\n"
          ]
        }
      ]
    },
    {
      "cell_type": "code",
      "source": [
        ""
      ],
      "metadata": {
        "id": "PvAkr1ayRh4R"
      },
      "execution_count": null,
      "outputs": []
    }
  ],
  "metadata": {
    "kernelspec": {
      "display_name": "Python 3",
      "language": "python",
      "name": "python3"
    },
    "language_info": {
      "codemirror_mode": {
        "name": "ipython",
        "version": 3
      },
      "file_extension": ".py",
      "mimetype": "text/x-python",
      "name": "python",
      "nbconvert_exporter": "python",
      "pygments_lexer": "ipython3",
      "version": "3.8.8"
    },
    "papermill": {
      "duration": 1307.590379,
      "end_time": "2021-01-16T07:16:17.894184",
      "environment_variables": {},
      "exception": null,
      "input_path": "__notebook__.ipynb",
      "output_path": "__notebook__.ipynb",
      "parameters": {},
      "start_time": "2021-01-16T06:54:30.303805",
      "version": "2.1.0"
    },
    "colab": {
      "name": "market-prediction-xgboost-classifier.ipynb",
      "provenance": [],
      "collapsed_sections": []
    },
    "accelerator": "GPU"
  },
  "nbformat": 4,
  "nbformat_minor": 0
}